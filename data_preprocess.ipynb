{
  "cells": [
    {
      "cell_type": "code",
      "execution_count": null,
      "metadata": {
        "colab": {
          "base_uri": "https://localhost:8080/"
        },
        "id": "2dvLsQn80G5g",
        "outputId": "733c1dac-820a-4332-c6a9-244ba52605b3"
      },
      "outputs": [
        {
          "output_type": "stream",
          "name": "stdout",
          "text": [
            "                                                text  label\n",
            "0  That moment you wear your natural hair out wit...      1\n",
            "1  `  ``L`` ..THANKS... will never do anything bu...      0\n",
            "2  RT @cornfedbeachbum Women comedians suck #nots...      1\n",
            "3  Happy Pride Month!! Although I do identify as ...      1\n",
            "4  nevermind  the  has assimilated those puppies ...      0\n"
          ]
        }
      ],
      "source": [
        "import pandas as pd\n",
        "\n",
        "# Load all datasets\n",
        "df1 = pd.read_csv('dataset1.csv')  # assuming tab-separated\n",
        "df2 = pd.read_csv('dataset2.csv')  # assuming tab-separated\n",
        "df3 = pd.read_csv('dataset3.csv')  # newly created dataset3\n",
        "\n",
        "# Process first dataset\n",
        "df1['label'] = df1['cyberbullying_type'].apply(lambda x: 0 if x == 'not_cyberbullying' else 1)\n",
        "df1 = df1.rename(columns={'tweet_text': 'text'})\n",
        "df1 = df1[['text', 'label']]  # Keep only needed columns\n",
        "\n",
        "# Process second dataset\n",
        "df2['label'] = df2['label'].apply(lambda x: 1 if x == -1 else 0)\n",
        "df2 = df2.rename(columns={'headline': 'text'})\n",
        "df2 = df2[['text', 'label']]  # Keep only needed columns\n",
        "\n",
        "# df3 is already clean, no processing needed (already has 'text' and 'label')\n",
        "\n",
        "# Merge all datasets\n",
        "merged_df = pd.concat([df1, df2, df3], ignore_index=True)\n",
        "\n",
        "merged_df = merged_df.sample(frac=1, random_state=42).reset_index(drop=True)\n",
        "# Optional: Save merged dataset\n",
        "merged_df.to_csv('merged_dataset.csv', index=False)\n",
        "\n",
        "# Show sample\n",
        "print(merged_df.head())\n"
      ]
    },
    {
      "cell_type": "code",
      "source": [
        "# merged_df = pd.read_csv('merged_dataset.csv')"
      ],
      "metadata": {
        "id": "a4xq_b7e0i34"
      },
      "execution_count": null,
      "outputs": []
    },
    {
      "cell_type": "code",
      "execution_count": null,
      "metadata": {
        "id": "GdklWuhI0G5j"
      },
      "outputs": [],
      "source": [
        "import pandas as pd\n",
        "import re\n",
        "import string\n",
        "import contractions\n",
        "import demoji\n",
        "from nltk.corpus import stopwords\n",
        "from nltk.stem import WordNetLemmatizer\n",
        "from nltk.tokenize import word_tokenize\n"
      ]
    },
    {
      "cell_type": "code",
      "execution_count": null,
      "metadata": {
        "colab": {
          "base_uri": "https://localhost:8080/"
        },
        "id": "Z58syY_k0G5k",
        "outputId": "f5f5b31b-aad4-4665-ad3a-2a5ae22c46d9"
      },
      "outputs": [
        {
          "output_type": "stream",
          "name": "stderr",
          "text": [
            "[nltk_data] Downloading package stopwords to /root/nltk_data...\n",
            "[nltk_data]   Package stopwords is already up-to-date!\n",
            "[nltk_data] Downloading package punkt to /root/nltk_data...\n",
            "[nltk_data]   Package punkt is already up-to-date!\n",
            "[nltk_data] Downloading package wordnet to /root/nltk_data...\n",
            "[nltk_data]   Package wordnet is already up-to-date!\n"
          ]
        },
        {
          "output_type": "execute_result",
          "data": {
            "text/plain": [
              "True"
            ]
          },
          "metadata": {},
          "execution_count": 17
        }
      ],
      "source": [
        "import nltk\n",
        "nltk.download('stopwords')\n",
        "nltk.download('punkt')\n",
        "nltk.download('wordnet')\n",
        "\n",
        "# import nltk\n",
        "\n",
        "# # Download necessary NLTK resources\n",
        "# nltk.download('punkt')\n",
        "# nltk.download('averaged_perceptron_tagger')\n",
        "# nltk.download('punkt_tab') # Download the missing resource\n",
        "\n",
        "# # ... (rest of your code) ..."
      ]
    },
    {
      "cell_type": "code",
      "execution_count": null,
      "metadata": {
        "id": "1QiU9LcJ0G5k"
      },
      "outputs": [],
      "source": [
        "stop_words_en = set(stopwords.words('english'))\n",
        "\n",
        "with open('stopwords.txt', 'r', encoding='utf-8') as f:\n",
        "    hindi_stopwords = set(line.strip() for line in f if line.strip())\n",
        "\n",
        "# Merge English + Hindi stopwords\n",
        "stop_words = stop_words_en.union(hindi_stopwords)\n",
        "\n",
        "# Initialize lemmatizer\n",
        "lemmatizer = WordNetLemmatizer()"
      ]
    },
    {
      "cell_type": "code",
      "execution_count": null,
      "metadata": {
        "id": "ndHonbSr0G5l"
      },
      "outputs": [],
      "source": [
        "def remove_emoji(text):\n",
        "    return demoji.replace(text, '')\n",
        "def remove_all_entities(text):\n",
        "    text = re.sub(r'\\r|\\n', ' ', text.lower())\n",
        "    text = re.sub(r\"(?:\\@|https?\\://)\\S+\", \"\", text)\n",
        "    text = re.sub(r'[^\\x00-\\x7f]', '', text)\n",
        "    banned_list = string.punctuation\n",
        "    table = str.maketrans('', '', banned_list)\n",
        "    text = text.translate(table)\n",
        "    text = ' '.join(word for word in text.split() if word not in stop_words)\n",
        "    return text\n"
      ]
    },
    {
      "cell_type": "code",
      "execution_count": null,
      "metadata": {
        "id": "SfRuJQeG0G5l"
      },
      "outputs": [],
      "source": [
        "\n",
        "def clean_hashtags(tweet):\n",
        "    new_tweet = re.sub(r'(\\s+#[\\w-]+)+\\s*$', '', tweet).strip()\n",
        "    new_tweet = re.sub(r'#([\\w-]+)', r'\\1', new_tweet).strip()\n",
        "    return new_tweet"
      ]
    },
    {
      "cell_type": "code",
      "execution_count": null,
      "metadata": {
        "id": "ihTg6K3r0G5l"
      },
      "outputs": [],
      "source": [
        "\n",
        "def remove_chars(text):\n",
        "    return ' '.join('' if ('$' in word) or ('&' in word) else word for word in text.split())\n",
        "\n",
        "def remove_mult_spaces(text):\n",
        "    return re.sub(r\"\\s\\s+\", \" \", text)"
      ]
    },
    {
      "cell_type": "code",
      "execution_count": null,
      "metadata": {
        "id": "XlZLhMTU0G5l"
      },
      "outputs": [],
      "source": [
        "def expand_contractions(text):\n",
        "    return contractions.fix(text)\n",
        "\n",
        "def lemmatize(text):\n",
        "    words = word_tokenize(text)\n",
        "    lemmatized_words = [lemmatizer.lemmatize(word) for word in words]\n",
        "    return ' '.join(lemmatized_words)\n",
        "\n",
        "def remove_numbers(text):\n",
        "    return re.sub(r'\\d+', '', text)"
      ]
    },
    {
      "cell_type": "code",
      "execution_count": null,
      "metadata": {
        "id": "7Ki9yzdy0G5m"
      },
      "outputs": [],
      "source": [
        "\n",
        "def remove_short_words(text, min_len=2):\n",
        "    words = text.split()\n",
        "    long_words = [word for word in words if len(word) >= min_len]\n",
        "    return ' '.join(long_words)\n",
        "\n",
        "def correct_elongated_words(text):\n",
        "    regular_pattern = r'\\b(\\w+)((\\w)\\3{2,})(\\w*)\\b'\n",
        "    return re.sub(regular_pattern, r'\\1\\3\\4', text)\n",
        "\n",
        "def remove_repeated_punctuation(text):\n",
        "    return re.sub(r'[\\?\\.\\!]+(?=[\\?\\.\\!])', '', text)"
      ]
    },
    {
      "cell_type": "code",
      "execution_count": null,
      "metadata": {
        "id": "naCQ63Gs0G5m"
      },
      "outputs": [],
      "source": [
        "def remove_extra_whitespace(text):\n",
        "    return ' '.join(text.split())\n",
        "\n",
        "def remove_url_shorteners(text):\n",
        "    return re.sub(r'(?:http[s]?://)?(?:www\\.)?(?:bit\\.ly|goo\\.gl|t\\.co|tinyurl\\.com|tr\\.im|is\\.gd|cli\\.gs|u\\.nu|url\\.ie|tiny\\.cc|alturl\\.com|ow\\.ly|bit\\.do|adoro\\.to)\\S+', '', text)\n",
        "\n",
        "def remove_spaces_tweets(tweet):\n",
        "    return tweet.strip()\n",
        "\n",
        "def remove_short_tweets(tweet, min_words=3):\n",
        "    words = tweet.split()\n",
        "    return tweet if len(words) >= min_words else \"\""
      ]
    },
    {
      "cell_type": "code",
      "execution_count": null,
      "metadata": {
        "id": "-BaDq4BV0G5m"
      },
      "outputs": [],
      "source": [
        "def clean_tweet(tweet):\n",
        "    tweet = remove_emoji(tweet)\n",
        "    tweet = expand_contractions(tweet)\n",
        "    tweet = remove_all_entities(tweet)\n",
        "    tweet = clean_hashtags(tweet)\n",
        "    tweet = remove_chars(tweet)\n",
        "    tweet = remove_mult_spaces(tweet)\n",
        "    tweet = remove_numbers(tweet)\n",
        "    tweet = lemmatize(tweet)\n",
        "    tweet = remove_short_words(tweet)\n",
        "    tweet = correct_elongated_words(tweet)\n",
        "    tweet = remove_repeated_punctuation(tweet)\n",
        "    tweet = remove_extra_whitespace(tweet)\n",
        "    tweet = remove_url_shorteners(tweet)\n",
        "    tweet = remove_spaces_tweets(tweet)\n",
        "    tweet = remove_short_tweets(tweet)\n",
        "    tweet = ' '.join(tweet.split())\n",
        "    return tweet"
      ]
    },
    {
      "cell_type": "code",
      "execution_count": null,
      "metadata": {
        "id": "a82RsuSH0G5m"
      },
      "outputs": [],
      "source": [
        "# Clean the 'text' column\n",
        "merged_df['cleaned_text'] = merged_df['text'].apply(clean_tweet)\n"
      ]
    },
    {
      "cell_type": "code",
      "source": [
        "# Save cleaned dataset\n",
        "merged_df = merged_df[['cleaned_text', 'label']]\n",
        "merged_df.to_csv('merged_cleaned_dataset.csv', index=False)"
      ],
      "metadata": {
        "id": "5YV4y5x6AN8F"
      },
      "execution_count": null,
      "outputs": []
    },
    {
      "source": [
        "# Count labels 0 and 1\n",
        "label_counts = merged_df['label'].value_counts()\n",
        "print(\"Label Counts:\\n\", label_counts)\n",
        "\n",
        "# Unique labels\n",
        "unique_labels = merged_df['label'].unique()\n",
        "print(\"\\nUnique Labels:\", unique_labels)\n",
        "\n",
        "# Count unique texts\n",
        "unique_text_count = merged_df['cleaned_text'].nunique()\n",
        "print(\"Unique text count:\", unique_text_count)\n"
      ],
      "cell_type": "code",
      "metadata": {
        "colab": {
          "base_uri": "https://localhost:8080/"
        },
        "id": "7OeRiuoa0-pt",
        "outputId": "4ee2d9e3-f104-46e9-966f-b821ffc25120"
      },
      "execution_count": null,
      "outputs": [
        {
          "output_type": "stream",
          "name": "stdout",
          "text": [
            "Label Counts:\n",
            " label\n",
            "0    54432\n",
            "1    51408\n",
            "Name: count, dtype: int64\n",
            "\n",
            "Unique Labels: [1 0]\n",
            "Unique text count: 93553\n"
          ]
        }
      ]
    },
    {
      "cell_type": "code",
      "source": [
        "# Remove rows where text is empty or only spaces\n",
        "merged_df = merged_df[merged_df['cleaned_text'].str.strip() != '']\n",
        "\n",
        "# Remove duplicate texts\n",
        "merged_df = merged_df.drop_duplicates(subset='cleaned_text')\n",
        "\n",
        "# Reset index after cleaning\n",
        "merged_df = merged_df.reset_index(drop=True)\n",
        "\n",
        "# Now count the labels\n",
        "label_counts = merged_df['label'].value_counts()\n",
        "print(\"Label counts after cleaning:\\n\", label_counts)\n"
      ],
      "metadata": {
        "colab": {
          "base_uri": "https://localhost:8080/"
        },
        "id": "k0p476f2DNGt",
        "outputId": "6b06f26d-3c75-4d9e-9374-268448434125"
      },
      "execution_count": null,
      "outputs": [
        {
          "output_type": "stream",
          "name": "stdout",
          "text": [
            "Label counts after cleaning:\n",
            " label\n",
            "0    48330\n",
            "1    45222\n",
            "Name: count, dtype: int64\n"
          ]
        }
      ]
    },
    {
      "cell_type": "code",
      "source": [
        "merged_df.to_csv('merged_cleaned_dataset_balanced.csv', index=False)"
      ],
      "metadata": {
        "id": "Oos9q9P_DWfE"
      },
      "execution_count": null,
      "outputs": []
    }
  ],
  "metadata": {
    "kernelspec": {
      "display_name": "Python 3",
      "language": "python",
      "name": "python3"
    },
    "language_info": {
      "codemirror_mode": {
        "name": "ipython",
        "version": 3
      },
      "file_extension": ".py",
      "mimetype": "text/x-python",
      "name": "python",
      "nbconvert_exporter": "python",
      "pygments_lexer": "ipython3",
      "version": "3.10.12"
    },
    "colab": {
      "provenance": []
    }
  },
  "nbformat": 4,
  "nbformat_minor": 0
}