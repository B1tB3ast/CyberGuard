{
  "cells": [
    {
      "cell_type": "code",
      "execution_count": 2,
      "metadata": {},
      "outputs": [],
      "source": [
        "import pandas as pd\n",
        "df=pd.read_csv('merged_cleaned_dataset_balanced.csv')"
      ]
    },
    {
      "cell_type": "markdown",
      "metadata": {},
      "source": [
        "## Vectorisation of text"
      ]
    },
    {
      "cell_type": "code",
      "execution_count": 3,
      "metadata": {
        "colab": {
          "base_uri": "https://localhost:8080/"
        },
        "id": "ngtENK2LY-0f",
        "outputId": "d949f540-0f68-46a9-d017-facf49caf24f"
      },
      "outputs": [
        {
          "name": "stdout",
          "output_type": "stream",
          "text": [
            "TF-IDF Shape: (93552, 100)\n",
            "   add  amp  article   as  attack  back  believe     bitch  bla     black  \\\n",
            "0  0.0  0.0      0.0  0.0     0.0   0.0      0.0  0.399436  0.0  0.814838   \n",
            "1  0.0  0.0      0.0  0.0     0.0   0.0      0.0  0.000000  0.0  0.000000   \n",
            "2  0.0  0.0      0.0  0.0     0.0   0.0      0.0  0.000000  0.0  0.000000   \n",
            "3  0.0  0.0      0.0  0.0     0.0   0.0      0.0  0.000000  0.0  0.000000   \n",
            "4  0.0  0.0      0.0  0.0     0.0   0.0      0.0  0.000000  0.0  0.000000   \n",
            "\n",
            "   ...  user  white  wiki  wikipedia     woman  word  work  world  wrong  year  \n",
            "0  ...   0.0    0.0   0.0        0.0  0.000000   0.0   0.0    0.0    0.0   0.0  \n",
            "1  ...   0.0    0.0   0.0        0.0  0.000000   0.0   0.0    0.0    0.0   0.0  \n",
            "2  ...   0.0    0.0   0.0        0.0  0.542115   0.0   0.0    0.0    0.0   0.0  \n",
            "3  ...   0.0    0.0   0.0        0.0  0.441293   0.0   0.0    0.0    0.0   0.0  \n",
            "4  ...   0.0    0.0   0.0        0.0  0.000000   0.0   0.0    0.0    0.0   0.0  \n",
            "\n",
            "[5 rows x 100 columns]\n"
          ]
        }
      ],
      "source": [
        "import pandas as pd\n",
        "from sklearn.feature_extraction.text import TfidfVectorizer\n",
        "\n",
        "tfidf = TfidfVectorizer(max_features=100) \n",
        "\n",
        "X = tfidf.fit_transform(df[\"cleaned_text\"].astype(str)) \n",
        "\n",
        "\n",
        "print(\"TF-IDF Shape:\", X.shape)\n",
        "\n",
        "\n",
        "feature_names = tfidf.get_feature_names_out() \n",
        "tfidf_df = pd.DataFrame(X.toarray(), columns=feature_names) \n",
        "\n",
        "print(tfidf_df.head())\n"
      ]
    },
    {
      "cell_type": "code",
      "execution_count": 4,
      "metadata": {
        "colab": {
          "base_uri": "https://localhost:8080/"
        },
        "id": "ZLeykKHMkQxP",
        "outputId": "57e84a59-2f70-40e6-f5db-622a65ecb9c3"
      },
      "outputs": [],
      "source": [
        "from sklearn.linear_model import LogisticRegression\n",
        "from sklearn.model_selection import train_test_split\n",
        "from sklearn.metrics import classification_report, accuracy_score\n",
        "import numpy as np"
      ]
    },
    {
      "cell_type": "code",
      "execution_count": 5,
      "metadata": {},
      "outputs": [
        {
          "name": "stdout",
          "output_type": "stream",
          "text": [
            "Train class distribution: [38683 36158]\n",
            "Test class distribution: [9647 9064]\n"
          ]
        }
      ],
      "source": [
        "y = df[\"label\"]\n",
        "\n",
        "# 🔹 Train-Test Split\n",
        "X_train, X_test, y_train, y_test = train_test_split(X, y, test_size=0.2, random_state=42)\n",
        "\n",
        "print(\"Train class distribution:\", np.bincount(y_train))\n",
        "print(\"Test class distribution:\", np.bincount(y_test))\n"
      ]
    },
    {
      "cell_type": "code",
      "execution_count": 6,
      "metadata": {},
      "outputs": [],
      "source": [
        "\n",
        "X_train, X_test, y_train, y_test = train_test_split(X, y, test_size=0.2, random_state=42)"
      ]
    },
    {
      "cell_type": "markdown",
      "metadata": {},
      "source": [
        "# Training various traditional models"
      ]
    },
    {
      "cell_type": "code",
      "execution_count": 7,
      "metadata": {},
      "outputs": [
        {
          "name": "stdout",
          "output_type": "stream",
          "text": [
            "Logistic Regression Accuracy: 0.855432633210411\n",
            "Classification Report:\n",
            "               precision    recall  f1-score   support\n",
            "\n",
            "      Absent       0.82      0.93      0.87      9647\n",
            "     Present       0.91      0.78      0.84      9064\n",
            "\n",
            "    accuracy                           0.86     18711\n",
            "   macro avg       0.86      0.85      0.85     18711\n",
            "weighted avg       0.86      0.86      0.85     18711\n",
            "\n"
          ]
        }
      ],
      "source": [
        "# Train Logistic Regression\n",
        "model = LogisticRegression(solver=\"lbfgs\", max_iter=1000)\n",
        "model.fit(X_train, y_train)\n",
        "\n",
        "y_pred = model.predict(X_test)\n",
        "print(\"Logistic Regression Accuracy:\", accuracy_score(y_test, y_pred))\n",
        "print(\"Classification Report:\\n\", classification_report(y_test, y_pred, target_names=[\"Absent\", \"Present\"]))\n"
      ]
    },
    {
      "cell_type": "code",
      "execution_count": 8,
      "metadata": {
        "colab": {
          "base_uri": "https://localhost:8080/",
          "height": 356
        },
        "id": "PGDajXPEkt9a",
        "outputId": "ec685a44-59d9-4eb7-e5a8-068fc671db53"
      },
      "outputs": [
        {
          "name": "stdout",
          "output_type": "stream",
          "text": [
            "Random Forest Accuracy: 0.8619528619528619\n",
            "Classification Report:\n",
            "               precision    recall  f1-score   support\n",
            "\n",
            "      Absent       0.82      0.94      0.88      9647\n",
            "     Present       0.92      0.78      0.85      9064\n",
            "\n",
            "    accuracy                           0.86     18711\n",
            "   macro avg       0.87      0.86      0.86     18711\n",
            "weighted avg       0.87      0.86      0.86     18711\n",
            "\n"
          ]
        }
      ],
      "source": [
        "from sklearn.ensemble import RandomForestClassifier\n",
        "from sklearn.metrics import accuracy_score, classification_report\n",
        "\n",
        "rf_model = RandomForestClassifier(n_estimators=50, random_state=42)\n",
        "\n",
        "rf_model.fit(X_train, y_train)\n",
        "\n",
        "y_pred_rf = rf_model.predict(X_test)\n",
        "\n",
        "print(\"Random Forest Accuracy:\", accuracy_score(y_test, y_pred_rf))\n",
        "print(\"Classification Report:\\n\", classification_report(y_test, y_pred_rf, target_names=[\"Absent\", \"Present\"]))\n"
      ]
    },
    {
      "cell_type": "code",
      "execution_count": 9,
      "metadata": {
        "id": "L4EL4emzkwT3"
      },
      "outputs": [
        {
          "name": "stdout",
          "output_type": "stream",
          "text": [
            "[LibSVM]SVM Accuracy: 0.8606701940035273\n",
            "Classification Report:\n",
            "               precision    recall  f1-score   support\n",
            "\n",
            "      Absent       0.82      0.94      0.87      9647\n",
            "     Present       0.92      0.78      0.84      9064\n",
            "\n",
            "    accuracy                           0.86     18711\n",
            "   macro avg       0.87      0.86      0.86     18711\n",
            "weighted avg       0.87      0.86      0.86     18711\n",
            "\n"
          ]
        }
      ],
      "source": [
        "from sklearn.svm import SVC\n",
        "from sklearn.metrics import accuracy_score, classification_report\n",
        "\n",
        "svm_model = SVC(kernel=\"linear\", verbose= True,decision_function_shape=\"ovr\", random_state=42)\n",
        "svm_model.fit(X_train, y_train)\n",
        "y_pred_svm = svm_model.predict(X_test)\n",
        "\n",
        "print(\"SVM Accuracy:\", accuracy_score(y_test, y_pred_svm))\n",
        "print(\"Classification Report:\\n\", classification_report(y_test, y_pred_svm, target_names=[\"Absent\", \"Present\"]))\n"
      ]
    }
  ],
  "metadata": {
    "colab": {
      "provenance": []
    },
    "kernelspec": {
      "display_name": "Python 3",
      "name": "python3"
    },
    "language_info": {
      "codemirror_mode": {
        "name": "ipython",
        "version": 3
      },
      "file_extension": ".py",
      "mimetype": "text/x-python",
      "name": "python",
      "nbconvert_exporter": "python",
      "pygments_lexer": "ipython3",
      "version": "3.11.3"
    }
  },
  "nbformat": 4,
  "nbformat_minor": 0
}
